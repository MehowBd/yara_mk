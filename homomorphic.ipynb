{
  "cells": [
    {
      "cell_type": "code",
      "execution_count": 20,
      "metadata": {
        "colab": {
          "base_uri": "https://localhost:8080/"
        },
        "id": "vb56JxktWFte",
        "outputId": "106d7736-709e-4f0d-c92f-141121bebd31"
      },
      "outputs": [
        {
          "name": "stdout",
          "output_type": "stream",
          "text": [
            "Requirement already satisfied: tenseal in /home/adam/miniconda3/envs/uni/lib/python3.11/site-packages (0.3.16)\n",
            "Requirement already satisfied: transformers in /home/adam/miniconda3/envs/uni/lib/python3.11/site-packages (4.52.4)\n",
            "Requirement already satisfied: accelerate in /home/adam/miniconda3/envs/uni/lib/python3.11/site-packages (1.7.0)\n",
            "Requirement already satisfied: torch in /home/adam/miniconda3/envs/uni/lib/python3.11/site-packages (2.6.0)\n",
            "Requirement already satisfied: filelock in /home/adam/miniconda3/envs/uni/lib/python3.11/site-packages (from transformers) (3.18.0)\n",
            "Requirement already satisfied: huggingface-hub<1.0,>=0.30.0 in /home/adam/miniconda3/envs/uni/lib/python3.11/site-packages (from transformers) (0.32.4)\n",
            "Requirement already satisfied: numpy>=1.17 in /home/adam/miniconda3/envs/uni/lib/python3.11/site-packages (from transformers) (2.2.6)\n",
            "Requirement already satisfied: packaging>=20.0 in /home/adam/miniconda3/envs/uni/lib/python3.11/site-packages (from transformers) (24.2)\n",
            "Requirement already satisfied: pyyaml>=5.1 in /home/adam/miniconda3/envs/uni/lib/python3.11/site-packages (from transformers) (6.0.2)\n",
            "Requirement already satisfied: regex!=2019.12.17 in /home/adam/miniconda3/envs/uni/lib/python3.11/site-packages (from transformers) (2024.11.6)\n",
            "Requirement already satisfied: requests in /home/adam/miniconda3/envs/uni/lib/python3.11/site-packages (from transformers) (2.32.3)\n",
            "Requirement already satisfied: tokenizers<0.22,>=0.21 in /home/adam/miniconda3/envs/uni/lib/python3.11/site-packages (from transformers) (0.21.1)\n",
            "Requirement already satisfied: safetensors>=0.4.3 in /home/adam/miniconda3/envs/uni/lib/python3.11/site-packages (from transformers) (0.5.3)\n",
            "Requirement already satisfied: tqdm>=4.27 in /home/adam/miniconda3/envs/uni/lib/python3.11/site-packages (from transformers) (4.67.1)\n",
            "Requirement already satisfied: psutil in /home/adam/miniconda3/envs/uni/lib/python3.11/site-packages (from accelerate) (7.0.0)\n",
            "Requirement already satisfied: typing-extensions>=4.10.0 in /home/adam/miniconda3/envs/uni/lib/python3.11/site-packages (from torch) (4.12.2)\n",
            "Requirement already satisfied: networkx in /home/adam/miniconda3/envs/uni/lib/python3.11/site-packages (from torch) (3.4.2)\n",
            "Requirement already satisfied: jinja2 in /home/adam/miniconda3/envs/uni/lib/python3.11/site-packages (from torch) (3.1.6)\n",
            "Requirement already satisfied: fsspec in /home/adam/miniconda3/envs/uni/lib/python3.11/site-packages (from torch) (2025.3.0)\n",
            "Requirement already satisfied: nvidia-cuda-nvrtc-cu12==12.4.127 in /home/adam/miniconda3/envs/uni/lib/python3.11/site-packages (from torch) (12.4.127)\n",
            "Requirement already satisfied: nvidia-cuda-runtime-cu12==12.4.127 in /home/adam/miniconda3/envs/uni/lib/python3.11/site-packages (from torch) (12.4.127)\n",
            "Requirement already satisfied: nvidia-cuda-cupti-cu12==12.4.127 in /home/adam/miniconda3/envs/uni/lib/python3.11/site-packages (from torch) (12.4.127)\n",
            "Requirement already satisfied: nvidia-cudnn-cu12==9.1.0.70 in /home/adam/miniconda3/envs/uni/lib/python3.11/site-packages (from torch) (9.1.0.70)\n",
            "Requirement already satisfied: nvidia-cublas-cu12==12.4.5.8 in /home/adam/miniconda3/envs/uni/lib/python3.11/site-packages (from torch) (12.4.5.8)\n",
            "Requirement already satisfied: nvidia-cufft-cu12==11.2.1.3 in /home/adam/miniconda3/envs/uni/lib/python3.11/site-packages (from torch) (11.2.1.3)\n",
            "Requirement already satisfied: nvidia-curand-cu12==10.3.5.147 in /home/adam/miniconda3/envs/uni/lib/python3.11/site-packages (from torch) (10.3.5.147)\n",
            "Requirement already satisfied: nvidia-cusolver-cu12==11.6.1.9 in /home/adam/miniconda3/envs/uni/lib/python3.11/site-packages (from torch) (11.6.1.9)\n",
            "Requirement already satisfied: nvidia-cusparse-cu12==12.3.1.170 in /home/adam/miniconda3/envs/uni/lib/python3.11/site-packages (from torch) (12.3.1.170)\n",
            "Requirement already satisfied: nvidia-cusparselt-cu12==0.6.2 in /home/adam/miniconda3/envs/uni/lib/python3.11/site-packages (from torch) (0.6.2)\n",
            "Requirement already satisfied: nvidia-nccl-cu12==2.21.5 in /home/adam/miniconda3/envs/uni/lib/python3.11/site-packages (from torch) (2.21.5)\n",
            "Requirement already satisfied: nvidia-nvtx-cu12==12.4.127 in /home/adam/miniconda3/envs/uni/lib/python3.11/site-packages (from torch) (12.4.127)\n",
            "Requirement already satisfied: nvidia-nvjitlink-cu12==12.4.127 in /home/adam/miniconda3/envs/uni/lib/python3.11/site-packages (from torch) (12.4.127)\n",
            "Requirement already satisfied: triton==3.2.0 in /home/adam/miniconda3/envs/uni/lib/python3.11/site-packages (from torch) (3.2.0)\n",
            "Requirement already satisfied: sympy==1.13.1 in /home/adam/miniconda3/envs/uni/lib/python3.11/site-packages (from torch) (1.13.1)\n",
            "Requirement already satisfied: mpmath<1.4,>=1.1.0 in /home/adam/miniconda3/envs/uni/lib/python3.11/site-packages (from sympy==1.13.1->torch) (1.3.0)\n",
            "Requirement already satisfied: hf-xet<2.0.0,>=1.1.2 in /home/adam/miniconda3/envs/uni/lib/python3.11/site-packages (from huggingface-hub<1.0,>=0.30.0->transformers) (1.1.3)\n",
            "Requirement already satisfied: MarkupSafe>=2.0 in /home/adam/miniconda3/envs/uni/lib/python3.11/site-packages (from jinja2->torch) (3.0.2)\n",
            "Requirement already satisfied: charset_normalizer<4,>=2 in /home/adam/miniconda3/envs/uni/lib/python3.11/site-packages (from requests->transformers) (3.4.1)\n",
            "Requirement already satisfied: idna<4,>=2.5 in /home/adam/miniconda3/envs/uni/lib/python3.11/site-packages (from requests->transformers) (3.10)\n",
            "Requirement already satisfied: urllib3<3,>=1.21.1 in /home/adam/miniconda3/envs/uni/lib/python3.11/site-packages (from requests->transformers) (2.3.0)\n",
            "Requirement already satisfied: certifi>=2017.4.17 in /home/adam/miniconda3/envs/uni/lib/python3.11/site-packages (from requests->transformers) (2025.4.26)\n"
          ]
        }
      ],
      "source": [
        "!pip install tenseal\n",
        "!pip install transformers accelerate torch\n",
        "!pip install -q --upgrade openai"
      ]
    },
    {
      "cell_type": "code",
      "execution_count": 21,
      "metadata": {},
      "outputs": [],
      "source": [
        "from typing import List, Dict, Tuple\n",
        "from sklearn.feature_extraction.text import TfidfVectorizer\n",
        "import os\n",
        "import json\n",
        "import openai\n",
        "from openai import OpenAI\n",
        "import re\n",
        "import hashlib\n",
        "import os\n",
        "import numpy as np\n",
        "from pathlib import Path"
      ]
    },
    {
      "cell_type": "code",
      "execution_count": null,
      "metadata": {
        "id": "jMBfKLGv84uP"
      },
      "outputs": [],
      "source": [
        "def hash_ngram(ngram, buckets=1024):\n",
        "    return int(hashlib.sha256(ngram.encode()).hexdigest(), 16) % buckets\n",
        "\n",
        "def vectorize(text, n=4, buckets=1024):\n",
        "    vec = [0] * buckets\n",
        "    text = text.lower()\n",
        "    for i in range(len(text) - n + 1):\n",
        "        idx = hash_ngram(text[i:i+n], buckets)\n",
        "        vec[idx] += 1\n",
        "    return vec\n",
        "\n",
        "# Connect to OpenRouter using their API key and base URL\n",
        "client = OpenAI(\n",
        "    api_key=\"\",\n",
        "    base_url=\"https://openrouter.ai/api/v1\"\n",
        ")\n",
        "\n",
        "# 1. Helper: LLM phrase generation from regex\n",
        "def generate_phrases_from_regex(regex: str, max_phrases=10) -> List[str]:\n",
        "    prompt = f\"\"\"You are a cybersecurity expert. Given the following regex from a phishing YARA rule:\n",
        "\n",
        "{regex}\n",
        "\n",
        "List {max_phrases} natural phrases or sentences that could appear in a phishing email and match the intent of this regex.\n",
        "Just list each phrase on a new line without explanations.\"\"\"\n",
        "\n",
        "    response = client.chat.completions.create(\n",
        "        model=\"mistralai/mistral-7b-instruct\",\n",
        "        messages=[\n",
        "            {\"role\": \"system\", \"content\": \"You are a helpful assistant.\"},\n",
        "            {\"role\": \"user\", \"content\": prompt}\n",
        "        ],\n",
        "        temperature=0.7,\n",
        "        max_tokens=300\n",
        "    )\n",
        "\n",
        "    raw_text = response.choices[0].message.content\n",
        "\n",
        "    phrases = [\n",
        "        re.sub(r\"^\\s*[\\d]+[\\.\\)\\-]*\\s*\", \"\", line).strip(\" -•\\n\").lstrip(\"\\\"\")\n",
        "        for line in raw_text.split(\"\\n\") if line.strip()\n",
        "    ]\n",
        "    return phrases\n",
        "\n",
        "# 2. Helper: extract n-grams (3-5 words) from phrases\n",
        "def extract_ngrams(text: str, min_n=3, max_n=5) -> List[str]:\n",
        "    words = text.lower().split()\n",
        "    return [\n",
        "        \" \".join(words[i:i+n])\n",
        "        for n in range(min_n, max_n + 1)\n",
        "        for i in range(len(words) - n + 1)\n",
        "    ]\n",
        "\n",
        "# 3. Convert YARA regexes to vectorizer and feature space\n",
        "def vectorize_yara_phrases(rules: List[Dict[str, object]]) -> Tuple[TfidfVectorizer, List[str]]:\n",
        "    all_phrases = []\n",
        "    for rule in rules:\n",
        "        pattern = rule[\"pattern\"]\n",
        "        phrases = generate_phrases_from_regex(pattern)\n",
        "        all_phrases.extend(phrases)\n",
        "\n",
        "    # Convert to 3–5 word n-grams\n",
        "    ngrams = set()\n",
        "    for phrase in all_phrases:\n",
        "        ngrams.update(extract_ngrams(phrase, 3, 5))\n",
        "\n",
        "    sorted_vocab = sorted(ngrams)\n",
        "    vectorized_vocab = [vectorize(phrase) for phrase in sorted_vocab]\n",
        "\n",
        "    return vectorized_vocab, sorted_vocab\n"
      ]
    },
    {
      "cell_type": "code",
      "execution_count": 23,
      "metadata": {
        "id": "6IvB0EQWkSiS"
      },
      "outputs": [],
      "source": [
        "import tenseal as ts\n",
        "import hashlib\n",
        "\n",
        "# --- Configuration ---\n",
        "BUCKETS = 1024\n",
        "NGRAM_SIZE = 4\n",
        "SCALE = 2 ** 40\n",
        "\n",
        "# --- Text Hashing Vectorizer ---\n",
        "def hash_ngram(ngram, buckets=BUCKETS):\n",
        "    return int(hashlib.sha256(ngram.encode()).hexdigest(), 16) % buckets\n",
        "\n",
        "def vectorize(text, n=NGRAM_SIZE, buckets=BUCKETS):\n",
        "    vec = [0] * buckets\n",
        "    text = text.lower()\n",
        "    for i in range(len(text) - n + 1):\n",
        "        idx = hash_ngram(text[i:i+n], buckets)\n",
        "        vec[idx] += 1\n",
        "    return vec\n",
        "\n",
        "# --- CKKS Context ---\n",
        "def create_ckks_context():\n",
        "    context = ts.context(\n",
        "        ts.SCHEME_TYPE.CKKS,\n",
        "        poly_modulus_degree=8192,\n",
        "        coeff_mod_bit_sizes=[60, 40, 40, 60]  # Must match scale size\n",
        "    )\n",
        "    context.global_scale = SCALE\n",
        "    context.generate_galois_keys()\n",
        "    return context\n",
        "\n",
        "# --- Encryption Helper ---\n",
        "def encrypt_vector(vector, context):\n",
        "    return ts.ckks_vector(context, vector)"
      ]
    },
    {
      "cell_type": "code",
      "execution_count": 24,
      "metadata": {
        "id": "eISOubUqb6IA"
      },
      "outputs": [],
      "source": [
        "# yara_rules = [\n",
        "#     r\"/pass(word)?\\s*reset/i\"]\n",
        "# vectorized_vocab, sorted_vocab = vectorize_yara_phrases(yara_rules)\n",
        "# print(sorted_vocab)"
      ]
    },
    {
      "cell_type": "code",
      "execution_count": 25,
      "metadata": {
        "id": "hbY3bzti6uRG",
        "outputId": "c0a1733a-3ee4-4769-84b6-ac0831027cb3"
      },
      "outputs": [
        {
          "name": "stdout",
          "output_type": "stream",
          "text": [
            "['a special offer', 'a special offer on', 'a special offer on your', 'access is temporarily', 'access is temporarily suspended.\"', 'access to your', 'access to your account.', 'access your account', 'access your account by', 'access your account by clicking', 'access your account\"', 'access your secure', 'access your secure login', 'access your secure login area\"', 'access your updated', 'access your updated statement.', 'account access is', 'account access is temporarily', 'account access is temporarily suspended.\"', 'account and it', 'account and it has', 'account and it has been', 'account by clicking', 'account by clicking the', 'account by clicking the link', 'account for account', 'account for account security', 'account for account security purposes.\"', 'account for suspicious', 'account for suspicious activity.\"', 'account has been', 'account has been locked', 'account has been locked for', 'account has been restricted', 'account has been restricted for', 'account has been suspended', 'account has been suspended due', 'account has been suspended for', 'account is currently', 'account is currently restricted.\"', 'account is suspended,', 'account is suspended, click', 'account is suspended, click the', 'account password expired.', 'account password expired. please', 'account password expired. please reset', 'account password immediately.\"', 'account password now.\"', 'account restrictions have', 'account restrictions have been', 'account restrictions have been imposed', 'account security checks.\"', 'account security purposes.\"', 'account setup process.', 'action required: reset', 'action required: reset your', 'action required: reset your account', 'activity on your', 'activity on your account', 'activity on your account and', 'activity, verify your', 'activity, verify your identity', 'activity, verify your identity to', 'alert: reset your', 'alert: reset your password', 'alert: reset your password to', 'alert: verify your', 'alert: verify your identity', 'alert: verify your identity immediately\"', 'and it has', 'and it has been', 'and it has been locked.\"', 'and secure your', 'and secure your account\"', 'and secure your account.\"', 'attached to update', 'attached to update your', 'attached to update your password.', 'been compromised. click', 'been compromised. click here', 'been compromised. click here to', 'been imposed due', 'been imposed due to', 'been imposed due to unusual', 'been locked for', 'been locked for account', 'been locked for account security', 'been restricted for', 'been restricted for account', 'been restricted for account security.\"', 'been suspended due', 'been suspended due to', 'been suspended due to security', 'been suspended for', 'been suspended for security', 'been suspended for security reasons.\"', 'below to confirm', 'below to confirm your', 'below to confirm your account', 'by clicking the', 'by clicking the link', 'by clicking the link provided.', 'change your account', 'change your account password', 'change your account password immediately.\"', 'click here to', 'click here to reset', 'click here to reset it.\"', 'click here to secure', 'click here to secure login\"', 'click here to verify', 'click here to verify your', 'click here to verify\"', 'click the link', 'click the link below', 'click the link below to', 'click the link for', 'click the link for a', 'click the link provided', 'click the link provided for', 'click the link to', 'click the link to access', 'click the link to complete', 'click the link to reactivate.', 'click the link to secure', 'click the link to verify', 'click to reset', 'click to reset your', 'click to reset your password', 'clicking the link', 'clicking the link provided.', 'complete the account', 'complete the account setup', 'complete the account setup process.', 'complete the registration', 'complete the registration process\"', 'compromised. click here', 'compromised. click here to', 'compromised. click here to reset', 'confirm your account', 'confirm your account details\"', 'confirm your account details.', 'confirm your secure', 'confirm your secure login', 'confirm your secure login information\"', 'continue using our', 'continue using our service\"', 'details have changed\"', 'detected suspicious activity,', 'detected suspicious activity, verify', 'detected suspicious activity, verify your', 'detected unusual activity', 'detected unusual activity on', 'detected unusual activity on your', 'due to security', 'due to security concerns.\"', 'due to security measures.\"', 'due to unusual', 'due to unusual behavior.\"', 'expired. please reset', 'expired. please reset it.\"', 'find the link', 'find the link attached', 'find the link attached to', 'for a special', 'for a special offer', 'for a special offer on', 'for account security', 'for account security checks.\"', 'for account security purposes.\"', 'for account security.\"', 'for immediate access', 'for immediate access to', 'for immediate access to your', 'for security reasons\"', 'for security reasons.\"', 'for suspicious activity.\"', 'for your account\"', 'for your account.\"', 'for your online', 'for your online account\"', 'for your safety,', 'for your safety, please', 'for your safety, please verify', 'has been compromised.', 'has been compromised. click', 'has been compromised. click here', 'has been locked', 'has been locked for', 'has been locked for account', 'has been locked.\"', 'has been restricted', 'has been restricted for', 'has been restricted for account', 'has been suspended', 'has been suspended due', 'has been suspended due to', 'has been suspended for', 'has been suspended for security', 'have been imposed', 'have been imposed due', 'have been imposed due to', 'have detected unusual', 'have detected unusual activity', 'have detected unusual activity on', 'have locked your', 'have locked your account', 'have locked your account for', 'have restricted your', 'have restricted your account', 'have restricted your account for', 'here to reset', 'here to reset it.\"', 'here to secure', 'here to secure login\"', 'here to verify', 'here to verify your', 'here to verify your identity', 'here to verify\"', 'identity and secure', 'identity and secure your', 'identity and secure your account\"', 'identity for security', 'identity for security reasons\"', 'identity to access', 'identity to access your', 'identity to access your account\"', 'identity to complete', 'identity to complete the', 'identity to complete the registration', 'identity to confirm', 'identity to confirm your', 'identity to confirm your account', 'identity to secure', 'identity to secure your', 'identity to secure your account\"', 'identity verification is', 'identity verification is pending,', 'identity verification is pending, click', 'identity verification is required', 'identity verification is required to', 'immediate access to', 'immediate access to your', 'immediate access to your account.', 'imposed due to', 'imposed due to unusual', 'imposed due to unusual behavior.\"', 'is currently restricted.\"', 'is now available\"', 'is pending, click', 'is pending, click here', 'is pending, click here to', 'is required to', 'is required to continue', 'is required to continue using', 'is suspended, click', 'is suspended, click the', 'is suspended, click the link', 'is temporarily suspended.\"', 'it has been', 'it has been locked.\"', 'kindly verify your', 'kindly verify your identity', 'kindly verify your identity to', 'link attached to', 'link attached to update', 'link attached to update your', 'link below to', 'link below to confirm', 'link below to confirm your', 'link for a', 'link for a special', 'link for a special offer', 'link provided for', 'link provided for immediate', 'link provided for immediate access', 'link to access', 'link to access your', 'link to access your updated', 'link to complete', 'link to complete the', 'link to complete the account', 'link to reactivate.', 'link to secure', 'link to secure your', 'link to secure your account', 'link to verify', 'link to verify your', 'link to verify your account', 'locked for account', 'locked for account security', 'locked for account security checks.\"', 'locked your account', 'locked your account for', 'locked your account for suspicious', 'login details have', 'login details have changed\"', 'login for your', 'login for your online', 'login for your online account\"', 'login is now', 'login is now available\"', 'login page for', 'login page for your', 'login page for your account\"', 'login to your', 'login to your account\"', 'login verification required\"', 'maintain account security.\"', 'notification for your', 'notification for your account.\"', 'offer on your', 'offer on your account.', 'on your account', 'on your account and', 'on your account and it', 'on your account.', 'page for your', 'page for your account\"', 'password and secure', 'password and secure your', 'password and secure your account.\"', 'password due to', 'password due to security', 'password due to security concerns.\"', 'password expired. please', 'password expired. please reset', 'password expired. please reset it.\"', 'password has been', 'password has been compromised.', 'password has been compromised. click', 'password reset notification', 'password reset notification for', 'password reset notification for your', 'password reset request', 'password reset request for', 'password reset request for your', 'password to maintain', 'password to maintain account', 'password to maintain account security.\"', 'password to secure', 'password to secure your', 'password to secure your personal', 'pending, click here', 'pending, click here to', 'pending, click here to verify\"', 'please find the', 'please find the link', 'please find the link attached', 'please reset it.\"', 'please verify your', 'please verify your identity', 'please verify your identity for', 'please verify your identity now\"', 'provided for immediate', 'provided for immediate access', 'provided for immediate access to', 'request for your', 'request for your account.\"', 'required to continue', 'required to continue using', 'required to continue using our', 'required: reset your', 'required: reset your account', 'required: reset your account password', 'reset notification for', 'reset notification for your', 'reset notification for your account.\"', 'reset request for', 'reset request for your', 'reset request for your account.\"', 'reset your account', 'reset your account password', 'reset your account password now.\"', 'reset your password', 'reset your password and', 'reset your password and secure', 'reset your password due', 'reset your password due to', 'reset your password to', 'reset your password to maintain', 'reset your password to secure', 'restricted for account', 'restricted for account security.\"', 'restricted your account', 'restricted your account for', 'restricted your account for account', 'restrictions have been', 'restrictions have been imposed', 'restrictions have been imposed due', 'safety, please verify', 'safety, please verify your', 'safety, please verify your identity', 'secure login area\"', 'secure login credentials\"', 'secure login details', 'secure login details have', 'secure login details have changed\"', 'secure login for', 'secure login for your', 'secure login for your online', 'secure login information\"', 'secure login is', 'secure login is now', 'secure login is now available\"', 'secure login page', 'secure login page for', 'secure login page for your', 'secure login to', 'secure login to your', 'secure login to your account\"', 'secure login verification', 'secure login verification required\"', 'secure your account', 'secure your account now.', 'secure your account\"', 'secure your account.\"', 'secure your personal', 'secure your personal information.\"', 'security alert: reset', 'security alert: reset your', 'security alert: reset your password', 'security alert: verify', 'security alert: verify your', 'security alert: verify your identity', 'special offer on', 'special offer on your', 'special offer on your account.', 'suspended due to', 'suspended due to security', 'suspended due to security measures.\"', 'suspended for security', 'suspended for security reasons.\"', 'suspended, click the', 'suspended, click the link', 'suspended, click the link to', 'suspicious activity, verify', 'suspicious activity, verify your', 'suspicious activity, verify your identity', 'the account setup', 'the account setup process.', 'the link attached', 'the link attached to', 'the link attached to update', 'the link below', 'the link below to', 'the link below to confirm', 'the link for', 'the link for a', 'the link for a special', 'the link provided', 'the link provided for', 'the link provided for immediate', 'the link provided.', 'the link to', 'the link to access', 'the link to access your', 'the link to complete', 'the link to complete the', 'the link to reactivate.', 'the link to secure', 'the link to secure your', 'the link to verify', 'the link to verify your', 'the registration process\"', 'to access your', 'to access your account\"', 'to access your updated', 'to access your updated statement.', 'to complete the', 'to complete the account', 'to complete the account setup', 'to complete the registration', 'to complete the registration process\"', 'to confirm your', 'to confirm your account', 'to confirm your account details\"', 'to confirm your account details.', 'to continue using', 'to continue using our', 'to continue using our service\"', 'to maintain account', 'to maintain account security.\"', 'to reset it.\"', 'to reset your', 'to reset your password', 'to reset your password and', 'to secure login\"', 'to secure your', 'to secure your account', 'to secure your account now.', 'to secure your account\"', 'to secure your personal', 'to secure your personal information.\"', 'to security concerns.\"', 'to security measures.\"', 'to unusual behavior.\"', 'to update your', 'to update your password.', 'to verify your', 'to verify your account', 'to verify your account information.', 'to verify your identity', 'to verify your identity and', 'to your account\"', 'to your account.', 'unusual activity on', 'unusual activity on your', 'unusual activity on your account', 'update secure login', 'update secure login credentials\"', 'update your password.', 'urgent: change your', 'urgent: change your account', 'urgent: change your account password', 'using our service\"', 'verification is pending,', 'verification is pending, click', 'verification is pending, click here', 'verification is required', 'verification is required to', 'verification is required to continue', 'verify your account', 'verify your account information.', 'verify your identity', 'verify your identity and', 'verify your identity and secure', 'verify your identity for', 'verify your identity for security', 'verify your identity immediately\"', 'verify your identity now\"', 'verify your identity to', 'verify your identity to access', 'verify your identity to complete', 'verify your identity to confirm', 'verify your identity to secure', 'visit secure login', 'visit secure login page', 'visit secure login page for', 'warning: your account', 'warning: your account is', 'warning: your account is currently', 'we have detected', 'we have detected unusual', 'we have detected unusual activity', 'we have locked', 'we have locked your', 'we have locked your account', 'we have restricted', 'we have restricted your', 'we have restricted your account', \"we've detected suspicious\", \"we've detected suspicious activity,\", \"we've detected suspicious activity, verify\", 'your account access', 'your account access is', 'your account access is temporarily', 'your account and', 'your account and it', 'your account and it has', 'your account by', 'your account by clicking', 'your account by clicking the', 'your account details\"', 'your account details.', 'your account for', 'your account for account', 'your account for account security', 'your account for suspicious', 'your account for suspicious activity.\"', 'your account has', 'your account has been', 'your account has been locked', 'your account has been restricted', 'your account has been suspended', 'your account information.', 'your account is', 'your account is currently', 'your account is currently restricted.\"', 'your account is suspended,', 'your account is suspended, click', 'your account now.', 'your account password', 'your account password expired.', 'your account password expired. please', 'your account password immediately.\"', 'your account password now.\"', 'your account restrictions', 'your account restrictions have', 'your account restrictions have been', 'your identity and', 'your identity and secure', 'your identity and secure your', 'your identity for', 'your identity for security', 'your identity for security reasons\"', 'your identity immediately\"', 'your identity now\"', 'your identity to', 'your identity to access', 'your identity to access your', 'your identity to complete', 'your identity to complete the', 'your identity to confirm', 'your identity to confirm your', 'your identity to secure', 'your identity to secure your', 'your identity verification', 'your identity verification is', 'your identity verification is pending,', 'your identity verification is required', 'your online account\"', 'your password and', 'your password and secure', 'your password and secure your', 'your password due', 'your password due to', 'your password due to security', 'your password has', 'your password has been', 'your password has been compromised.', 'your password to', 'your password to maintain', 'your password to maintain account', 'your password to secure', 'your password to secure your', 'your personal information.\"', 'your safety, please', 'your safety, please verify', 'your safety, please verify your', 'your secure login', 'your secure login area\"', 'your secure login details', 'your secure login details have', 'your secure login information\"', 'your updated statement.']\n"
          ]
        }
      ],
      "source": [
        "# --- YARA rules with weights ---\n",
        "rules = [\n",
        "    {\"pattern\": r\"/pass(word)?\\s*reset/i\", \"weight\": 1.5},\n",
        "    {\"pattern\": r\"/account\\s+(suspended|locked|restricted)/i\", \"weight\": 1.0},\n",
        "    {\"pattern\": r\"/verify\\s+your\\s+identity/i\", \"weight\": 1.2},\n",
        "    {\"pattern\": r\"/click\\s+the\\s+link/i\", \"weight\": 0.8},\n",
        "    {\"pattern\": r\"/secure\\s+login/i\", \"weight\": 1.3},\n",
        "]\n",
        "vectorized_vocab, sorted_vocab = vectorize_yara_phrases(rules)\n",
        "print(sorted_vocab)\n",
        "\n",
        "def rule_matches(pattern: str, text: str) -> bool:\n",
        "    return re.search(pattern.strip(\"/i\"), text, re.IGNORECASE) is not None"
      ]
    },
    {
      "cell_type": "code",
      "execution_count": 26,
      "metadata": {
        "colab": {
          "base_uri": "https://localhost:8080/"
        },
        "id": "XmkkYTUlYNwA",
        "outputId": "d3d80a4e-c603-4611-95f8-3d5a6a94d4c3",
        "scrolled": true
      },
      "outputs": [
        {
          "name": "stdout",
          "output_type": "stream",
          "text": [
            "Similarity Score (Dot Product, decrypted): 36.00000727209425\n",
            "\n",
            "--- Results ---\n",
            "Similarity score: 36.00\n",
            "YARA rules matched: 1 (total weight: 1.50)\n",
            "Combined score: 37.50\n",
            "Threshold: 10.00 (similarity), 12.00 (combined)\n",
            "\n",
            "PHISHING!\n",
            "Matched YARA rules:\n",
            "- /pass(word)?\\s*reset/i (weight: 1.5)\n"
          ]
        }
      ],
      "source": [
        "# --- Main Logic ---\n",
        "context = create_ckks_context()\n",
        "\n",
        "email_text = \"\"\"Subject: Immediate Action Required – Password Reset\n",
        "\n",
        "Dear user,\n",
        "\n",
        "We have detected suspicious activity on your account and, as a security precaution, your access has been temporarily limited.\n",
        "\n",
        "To restore access, please follow the link below to initiate a password reset:\n",
        "\n",
        "👉 https://secure-login-authenticator.com/reset\n",
        "\n",
        "If you do not reset your password within 24 hours, your account will be permanently locked.\n",
        "\n",
        "Thank you for your cooperation,\n",
        "Security Team\n",
        "\"\"\"\n",
        "yara_rule_text = \"password reset\"\n",
        "\n",
        "# Vectorize\n",
        "email_vector = vectorize(email_text)\n",
        "yara_vector = vectorize(yara_rule_text)\n",
        "\n",
        "# Pad to same length if needed (shouldn't be necessary here)\n",
        "if len(email_vector) != len(yara_vector):\n",
        "    max_len = max(len(email_vector), len(yara_vector))\n",
        "    email_vector += [0] * (max_len - len(email_vector))\n",
        "    yara_vector += [0] * (max_len - len(yara_vector))\n",
        "\n",
        "# Encrypt both vectors\n",
        "enc_email = encrypt_vector(email_vector, context)\n",
        "enc_yara = encrypt_vector(yara_vector, context)\n",
        "\n",
        "# Compute encrypted dot product\n",
        "# This works because both vectors have same scale & context\n",
        "enc_score = enc_email.dot(enc_yara)\n",
        "\n",
        "# --- Threshold Configuration ---\n",
        "THRESHOLD = 10.0\n",
        "\n",
        "# Decrypt the result\n",
        "score = enc_score.decrypt()[0]\n",
        "print(\"Similarity Score (Dot Product, decrypted):\", score)\n",
        "\n",
        "# Check against threshold\n",
        "is_phishing = score >= THRESHOLD\n",
        "\n",
        "# Additional verification with YARA rules\n",
        "yara_matches = [\n",
        "    rule for rule in rules\n",
        "    if rule_matches(rule[\"pattern\"], email_text)\n",
        "]\n",
        "yara_score = sum(rule[\"weight\"] for rule in yara_matches)\n",
        "\n",
        "# Combined approach: similarity + YARA rules\n",
        "final_score = score + yara_score\n",
        "final_threshold = THRESHOLD + 2.0  # Higher threshold for combined approach\n",
        "\n",
        "is_phishing_final = final_score >= final_threshold\n",
        "\n",
        "print(\"\\n--- Results ---\")\n",
        "print(f\"Similarity score: {score:.2f}\")\n",
        "print(f\"YARA rules matched: {len(yara_matches)} (total weight: {yara_score:.2f})\")\n",
        "print(f\"Combined score: {final_score:.2f}\")\n",
        "print(f\"Threshold: {THRESHOLD:.2f} (similarity), {final_threshold:.2f} (combined)\")\n",
        "if is_phishing_final:\n",
        "    print(\"\\nPHISHING!\")\n",
        "    print(\"Matched YARA rules:\")\n",
        "    for rule in yara_matches:\n",
        "        print(f\"- {rule['pattern']} (weight: {rule['weight']})\")\n",
        "else:\n",
        "    print(\"\\nEmail appears legitimate\")"
      ]
    },
    {
      "cell_type": "code",
      "execution_count": 27,
      "metadata": {
        "id": "LXuKyMFP6uRH",
        "outputId": "33deafd8-6a71-4e79-c031-9f8509f45a05"
      },
      "outputs": [
        {
          "name": "stdout",
          "output_type": "stream",
          "text": [
            "\n",
            "--- Results ---\n",
            "Max similarity score fraz: 83.00\n",
            "YARA rules matched: 1 (total weight: 1.50)\n",
            "Combined score: 84.50\n",
            "Threshold: 10.00 (similarity), 12.00 (combined)\n",
            "\n",
            "PHISHING!\n",
            "Matched YARA rules:\n",
            "- /pass(word)?\\s*reset/i (weight: 1.5)\n"
          ]
        }
      ],
      "source": [
        "# Padding\n",
        "max_len = max(len(email_vector), len(vectorized_vocab[0]))\n",
        "email_vector += [0] * (max_len - len(email_vector))\n",
        "\n",
        "enc_email = encrypt_vector(email_vector, context)\n",
        "\n",
        "# Calculate similarity with each phrase vector from the vocab:\n",
        "scores = []\n",
        "for phrase_vec in vectorized_vocab:\n",
        "    vec = phrase_vec\n",
        "    vec += [0] * (max_len - len(vec))  # padding\n",
        "    enc_phrase = encrypt_vector(vec, context)\n",
        "    enc_score = enc_email.dot(enc_phrase)\n",
        "    score = enc_score.decrypt()[0]\n",
        "    scores.append(score)\n",
        "\n",
        "max_score = max(scores)\n",
        "\n",
        "# Check which YARA rules match the email text\n",
        "yara_matches = [rule for rule in rules if rule_matches(rule[\"pattern\"], email_text)]\n",
        "yara_score = sum(rule[\"weight\"] for rule in yara_matches)\n",
        "\n",
        "# Calculate the combined score\n",
        "final_score = max_score + yara_score\n",
        "\n",
        "THRESHOLD = 10.0\n",
        "final_threshold = THRESHOLD + 2.0\n",
        "\n",
        "is_phishing_final = final_score >= final_threshold\n",
        "\n",
        "print(\"\\n--- Results ---\")\n",
        "print(f\"Max similarity score fraz: {max_score:.2f}\")\n",
        "print(f\"YARA rules matched: {len(yara_matches)} (total weight: {yara_score:.2f})\")\n",
        "print(f\"Combined score: {final_score:.2f}\")\n",
        "print(f\"Threshold: {THRESHOLD:.2f} (similarity), {final_threshold:.2f} (combined)\")\n",
        "if is_phishing_final:\n",
        "    print(\"\\nPHISHING!\")\n",
        "    print(\"Matched YARA rules:\")\n",
        "    for rule in yara_matches:\n",
        "        print(f\"- {rule['pattern']} (weight: {rule['weight']})\")\n",
        "else:\n",
        "    print(\"\\nEmail appears legitimate\")"
      ]
    },
    {
      "cell_type": "code",
      "execution_count": 28,
      "metadata": {
        "id": "r8uh8XO_8CfC"
      },
      "outputs": [],
      "source": [
        "def vectorize_all_emails(input_dir: str, output_path: str) -> None:\n",
        "\n",
        "    input_dir = Path(input_dir)\n",
        "    vectors: list[np.ndarray] = []\n",
        "    for dirpath, dirnames, filenames  in os.walk(input_dir):\n",
        "        for filename in filenames:\n",
        "            with open(os.path.join(dirpath, filename)) as file:\n",
        "                text = file.read()\n",
        "                vec = vectorize(text)\n",
        "                \n",
        "                vectors.append(np.array(vec))\n",
        "        continue # first level \n",
        "\n",
        "    np.savez_compressed(output_path, np.array(vectors)) # not too big but readable\n",
        "    \n",
        "    return np.array(vectors)\n"
      ]
    },
    {
      "cell_type": "code",
      "execution_count": 29,
      "metadata": {},
      "outputs": [],
      "source": [
        "def iter_emails(path: str):\n",
        "    array = np.load(path)['arr_0']\n",
        "    for row in array:\n",
        "        yield row"
      ]
    },
    {
      "cell_type": "code",
      "execution_count": 30,
      "metadata": {
        "id": "7toFsatX8D_O"
      },
      "outputs": [],
      "source": [
        "phishing = vectorize_all_emails(\n",
        "    input_dir=\"samples/phishing_mails\",\n",
        "    output_path=\"./samples/phishing_mails_vectorized\"\n",
        ")\n",
        "\n",
        "regular = vectorize_all_emails(\n",
        "    input_dir=\"./samples/regular_mails\",\n",
        "    output_path=\"./samples/regular_mails_vectorized\"\n",
        ")"
      ]
    },
    {
      "cell_type": "code",
      "execution_count": 31,
      "metadata": {},
      "outputs": [],
      "source": [
        "mail_vectors = iter_emails('./samples/phishing_mails_vectorized.npz')"
      ]
    },
    {
      "cell_type": "code",
      "execution_count": 32,
      "metadata": {},
      "outputs": [],
      "source": [
        "for mail_vector in mail_vectors:\n",
        "    #### do sth \n",
        "    ..."
      ]
    },
    {
      "cell_type": "code",
      "execution_count": null,
      "metadata": {},
      "outputs": [],
      "source": []
    }
  ],
  "metadata": {
    "colab": {
      "provenance": []
    },
    "kernelspec": {
      "display_name": "uni",
      "language": "python",
      "name": "python3"
    },
    "language_info": {
      "codemirror_mode": {
        "name": "ipython",
        "version": 3
      },
      "file_extension": ".py",
      "mimetype": "text/x-python",
      "name": "python",
      "nbconvert_exporter": "python",
      "pygments_lexer": "ipython3",
      "version": "3.11.11"
    }
  },
  "nbformat": 4,
  "nbformat_minor": 0
}
