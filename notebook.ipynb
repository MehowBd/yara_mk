{
 "cells": [
  {
   "cell_type": "code",
   "execution_count": 58,
   "id": "124075d4",
   "metadata": {},
   "outputs": [
    {
     "name": "stdout",
     "output_type": "stream",
     "text": [
      "Dopasowania: [ExampleRule]\n"
     ]
    }
   ],
   "source": [
    "import yara\n",
    "import os\n",
    "import re\n",
    "\n",
    "rules = yara.compile(r'rules\\sekurak_yara_example.yar')\n",
    "matches = rules.match(r'samples\\sample_1.exe')\n",
    "\n",
    "print(\"Dopasowania:\", matches)"
   ]
  },
  {
   "cell_type": "markdown",
   "id": "b501170f",
   "metadata": {},
   "source": [
    "Phishing mail data collected from : https://monkey.org/~jose/phishing/ (2023 and 2024 year)\n",
    "\n",
    "\n",
    "Regular mail data collected from selected: https://spamassassin.apache.org/old/publiccorpus/ (easy and hard, without spam mails)"
   ]
  },
  {
   "cell_type": "markdown",
   "id": "7e783bbf",
   "metadata": {},
   "source": [
    "## Data preparation"
   ]
  },
  {
   "cell_type": "code",
   "execution_count": 59,
   "id": "59965f2e",
   "metadata": {},
   "outputs": [],
   "source": [
    "def split_emails_to_files(input_dir: str, output_dir: str):\n",
    "    os.makedirs(output_dir, exist_ok=True)\n",
    "    counter = 1\n",
    "    \n",
    "    for filename in sorted(os.listdir(input_dir)):\n",
    "        filepath = os.path.join(input_dir, filename)\n",
    "        if not os.path.isfile(filepath):\n",
    "            continue\n",
    "\n",
    "        try:\n",
    "            with open(filepath, 'r', encoding='utf-8', errors='replace') as f:\n",
    "                content = f.read()\n",
    "        except Exception as e:\n",
    "            print(f\"Error with file {filename}: {e}\")\n",
    "            continue\n",
    "\n",
    "        messages = re.split(r'(?=^From \\S+@\\S+ .{24,})', content, flags=re.MULTILINE)\n",
    "        messages = [msg.strip() for msg in messages if msg.strip()]\n",
    "\n",
    "        for msg in messages:\n",
    "            out_filename = f\"message_{counter:06d}.txt\"\n",
    "            out_path = os.path.join(output_dir, out_filename)\n",
    "            with open(out_path, 'w', encoding='utf-8') as out:\n",
    "                out.write(msg)\n",
    "            counter += 1\n",
    "\n",
    "        print(f\"Saved {len(messages)} messages from file: {filename}\")\n",
    "\n",
    "    print(f\"\\n Saved {counter - 1} messages to directory: {output_dir}\")\n"
   ]
  },
  {
   "cell_type": "code",
   "execution_count": 60,
   "id": "3aca24bc",
   "metadata": {},
   "outputs": [
    {
     "name": "stdout",
     "output_type": "stream",
     "text": [
      "Saved 419 messages from file: phishing-2023.mbox\n",
      "Saved 403 messages from file: phishing-2024.mbox\n",
      "\n",
      " Saved 822 messages to directory: samples/phishing_mails\n"
     ]
    }
   ],
   "source": [
    "split_emails_to_files('samples/raw_phishing', 'samples/phishing_mails')"
   ]
  },
  {
   "cell_type": "code",
   "execution_count": 61,
   "id": "0d4da19a",
   "metadata": {},
   "outputs": [],
   "source": [
    "def convert_emails_to_txt(input_dir: str, output_dir: str):\n",
    "    os.makedirs(output_dir, exist_ok=True)\n",
    "    \n",
    "    files = sorted(f for f in os.listdir(input_dir) if os.path.isfile(os.path.join(input_dir, f)) and not f.startswith(\"cmds\"))\n",
    "    \n",
    "    for idx, filename in enumerate(files, 1):\n",
    "        input_path = os.path.join(input_dir, filename)\n",
    "        output_filename = f\"regular_message_{idx:03d}.txt\"\n",
    "        output_path = os.path.join(output_dir, output_filename)\n",
    "        \n",
    "        with open(input_path, 'r', encoding='utf-8', errors='ignore') as f_in, \\\n",
    "             open(output_path, 'w', encoding='utf-8') as f_out:\n",
    "            content = f_in.read()\n",
    "            f_out.write(content)\n",
    "\n",
    "    print(f\" Converted {len(files)} files from {input_dir} → {output_dir}\")"
   ]
  },
  {
   "cell_type": "code",
   "execution_count": 62,
   "id": "08aa40ce",
   "metadata": {},
   "outputs": [
    {
     "name": "stdout",
     "output_type": "stream",
     "text": [
      " Converted 887 files from samples/raw_regular → samples/regular_mails\n"
     ]
    }
   ],
   "source": [
    "convert_emails_to_txt(\"samples/raw_regular\", \"samples/regular_mails\")"
   ]
  },
  {
   "cell_type": "markdown",
   "id": "1a354a2f",
   "metadata": {},
   "source": [
    "## Scanning files"
   ]
  },
  {
   "cell_type": "code",
   "execution_count": 63,
   "id": "3891f0aa",
   "metadata": {},
   "outputs": [],
   "source": [
    "def scan_with_yara(rules_path: str, target_dir: str, output_path: str):\n",
    "    try:\n",
    "        rules = yara.compile(filepath=rules_path)\n",
    "    except Exception as e:\n",
    "        print(f\"Error during loading rules: {e}\")\n",
    "        return\n",
    "\n",
    "    matches_count = 0\n",
    "    scanned_count = 0\n",
    "\n",
    "    excluded_dirs = {\"raw_phishing\", \"raw_regular\"}\n",
    "\n",
    "    with open(output_path, 'w', encoding='utf-8') as report:\n",
    "        for root, dirs, files in os.walk(target_dir):\n",
    "            dirs[:] = [d for d in dirs if d not in excluded_dirs]\n",
    "\n",
    "            for filename in sorted(files):\n",
    "                filepath = os.path.join(root, filename)\n",
    "                rel_path = os.path.relpath(filepath, target_dir)\n",
    "\n",
    "                try:\n",
    "                    with open(filepath, 'rb') as f:\n",
    "                        data = f.read()\n",
    "\n",
    "                    matches = rules.match(data=data)\n",
    "\n",
    "                    if matches:\n",
    "                        matches_count += 1\n",
    "                        report.write(f\" MATCH: {rel_path} -> {matches}\\n\")\n",
    "                    else:\n",
    "                        report.write(f\" NO MATCH: {rel_path}\\n\")\n",
    "\n",
    "                    scanned_count += 1\n",
    "                except Exception as e:\n",
    "                    report.write(f\"ERROR {rel_path}: {e}\\n\")\n",
    "\n",
    "    print(f\"\\nScanning finished. {scanned_count} files were scanned, {matches_count} matches were detected.\")\n",
    "    print(f\"Results saved in: {output_path}\")"
   ]
  },
  {
   "cell_type": "code",
   "execution_count": 64,
   "id": "2788f5da",
   "metadata": {},
   "outputs": [],
   "source": [
    "def analyze_yara_results_from_file(result_file_path: str):\n",
    "    phishing_matches = 0\n",
    "    phishing_total = 0\n",
    "    regular_matches = 0\n",
    "    regular_total = 0\n",
    "    other_matches = 0\n",
    "    other_total = 0\n",
    "\n",
    "    try:\n",
    "        with open(result_file_path, 'r', encoding='utf-8') as file:\n",
    "            for line in file:\n",
    "                is_match = line.strip().startswith(\"MATCH\")\n",
    "\n",
    "                if \"phishing_mails\" in line:\n",
    "                    phishing_total += 1\n",
    "                    if is_match:\n",
    "                        phishing_matches += 1\n",
    "                elif \"regular_mails\" in line:\n",
    "                    regular_total += 1\n",
    "                    if is_match:\n",
    "                        regular_matches += 1\n",
    "                else:\n",
    "                    other_total += 1\n",
    "                    if is_match:\n",
    "                        other_matches += 1\n",
    "\n",
    "        total_matches = phishing_matches + regular_matches + other_matches\n",
    "        total_files = phishing_total + regular_total + other_total\n",
    "\n",
    "        print(\"Analiza wyników z pliku:\", result_file_path)\n",
    "        print(f\"Phishing mails: {phishing_matches} / {phishing_total} dopasowań\")\n",
    "        print(f\"Regular mails:  {regular_matches} / {regular_total} dopasowań\")\n",
    "        print(f\"Inne pliki:      {other_matches} / {other_total} dopasowań\")\n",
    "        print(f\"SUMA:            {total_matches} / {total_files} plików dopasowanych\\n\")\n",
    "\n",
    "    except Exception as e:\n",
    "        print(f\"Błąd podczas analizy pliku wynikowego: {e}\")"
   ]
  },
  {
   "cell_type": "code",
   "execution_count": 65,
   "id": "e7e79d46",
   "metadata": {},
   "outputs": [
    {
     "name": "stdout",
     "output_type": "stream",
     "text": [
      "\n",
      "Scanning finished. 1710 files were scanned, 146 matches were detected.\n",
      "Results saved in: results/yara_scan_results.txt\n"
     ]
    }
   ],
   "source": [
    "scan_with_yara(\n",
    "    rules_path='rules/sekurak_yara_example.yar',\n",
    "    target_dir='samples/',\n",
    "    output_path='results/yara_scan_results.txt'\n",
    ")"
   ]
  },
  {
   "cell_type": "markdown",
   "id": "28bbe449",
   "metadata": {},
   "source": [
    "## Cofusion matrix"
   ]
  },
  {
   "cell_type": "code",
   "execution_count": 66,
   "id": "85176eeb",
   "metadata": {},
   "outputs": [
    {
     "name": "stdout",
     "output_type": "stream",
     "text": [
      "Analiza wyników z pliku: results/yara_scan_results.txt\n",
      "Phishing mails: 118 / 822 dopasowań\n",
      "Regular mails:  27 / 887 dopasowań\n",
      "Inne pliki:      1 / 1 dopasowań\n",
      "SUMA:            146 / 1710 plików dopasowanych\n",
      "\n"
     ]
    }
   ],
   "source": [
    "analyze_yara_results_from_file('results/yara_scan_results.txt')"
   ]
  },
  {
   "cell_type": "code",
   "execution_count": 67,
   "id": "0b2cfa1b",
   "metadata": {},
   "outputs": [
    {
     "name": "stdout",
     "output_type": "stream",
     "text": [
      "\n",
      "Scanning finished. 1710 files were scanned, 91 matches were detected.\n",
      "Results saved in: results/yara_phrases_scan.txt\n"
     ]
    }
   ],
   "source": [
    "scan_with_yara(\n",
    "    rules_path='rules/phrases_rule.yar',\n",
    "    target_dir='samples/',\n",
    "    output_path='results/yara_phrases_scan.txt'\n",
    ")"
   ]
  },
  {
   "cell_type": "code",
   "execution_count": 68,
   "id": "b1eeb182",
   "metadata": {},
   "outputs": [
    {
     "name": "stdout",
     "output_type": "stream",
     "text": [
      "Analiza wyników z pliku: results/yara_phrases_scan.txt\n",
      "Phishing mails: 91 / 822 dopasowań\n",
      "Regular mails:  0 / 887 dopasowań\n",
      "Inne pliki:      0 / 1 dopasowań\n",
      "SUMA:            91 / 1710 plików dopasowanych\n",
      "\n"
     ]
    }
   ],
   "source": [
    "analyze_yara_results_from_file('results/yara_phrases_scan.txt')"
   ]
  },
  {
   "cell_type": "code",
   "execution_count": 69,
   "id": "94a9b46e",
   "metadata": {},
   "outputs": [
    {
     "name": "stdout",
     "output_type": "stream",
     "text": [
      "\n",
      "Scanning finished. 1710 files were scanned, 1 matches were detected.\n",
      "Results saved in: results/yara_domains_scan.txt\n"
     ]
    }
   ],
   "source": [
    "scan_with_yara(\n",
    "    rules_path='rules/domains_rule.yar',\n",
    "    target_dir='samples/',\n",
    "    output_path='results/yara_domains_scan.txt'\n",
    ")"
   ]
  },
  {
   "cell_type": "code",
   "execution_count": 70,
   "id": "236040fe",
   "metadata": {},
   "outputs": [
    {
     "name": "stdout",
     "output_type": "stream",
     "text": [
      "Analiza wyników z pliku: results/yara_domains_scan.txt\n",
      "Phishing mails: 1 / 822 dopasowań\n",
      "Regular mails:  0 / 887 dopasowań\n",
      "Inne pliki:      0 / 1 dopasowań\n",
      "SUMA:            1 / 1710 plików dopasowanych\n",
      "\n"
     ]
    }
   ],
   "source": [
    "analyze_yara_results_from_file('results/yara_domains_scan.txt')"
   ]
  },
  {
   "cell_type": "code",
   "execution_count": 71,
   "id": "f40a8efb",
   "metadata": {},
   "outputs": [
    {
     "name": "stdout",
     "output_type": "stream",
     "text": [
      "\n",
      "Scanning finished. 1710 files were scanned, 243 matches were detected.\n",
      "Results saved in: results/yara_tld_scan.txt\n"
     ]
    }
   ],
   "source": [
    "scan_with_yara(\n",
    "    rules_path='rules/suspicious_tld_rule.yar',\n",
    "    target_dir='samples/',\n",
    "    output_path='results/yara_tld_scan.txt'\n",
    ")"
   ]
  },
  {
   "cell_type": "code",
   "execution_count": 72,
   "id": "bedf7793",
   "metadata": {},
   "outputs": [
    {
     "name": "stdout",
     "output_type": "stream",
     "text": [
      "Analiza wyników z pliku: results/yara_tld_scan.txt\n",
      "Phishing mails: 84 / 822 dopasowań\n",
      "Regular mails:  159 / 887 dopasowań\n",
      "Inne pliki:      0 / 1 dopasowań\n",
      "SUMA:            243 / 1710 plików dopasowanych\n",
      "\n"
     ]
    }
   ],
   "source": [
    "analyze_yara_results_from_file('results/yara_tld_scan.txt')"
   ]
  },
  {
   "cell_type": "code",
   "execution_count": 73,
   "id": "e1fc6702",
   "metadata": {},
   "outputs": [
    {
     "name": "stdout",
     "output_type": "stream",
     "text": [
      "\n",
      "Scanning finished. 1710 files were scanned, 19 matches were detected.\n",
      "Results saved in: results/yara_encoded_scan.txt\n"
     ]
    }
   ],
   "source": [
    "scan_with_yara(\n",
    "    rules_path='rules/encoded_reply_rule.yar',\n",
    "    target_dir='samples/',\n",
    "    output_path='results/yara_encoded_scan.txt'\n",
    ")"
   ]
  },
  {
   "cell_type": "code",
   "execution_count": 74,
   "id": "9d31b51a",
   "metadata": {},
   "outputs": [
    {
     "name": "stdout",
     "output_type": "stream",
     "text": [
      "Analiza wyników z pliku: results/yara_encoded_scan.txt\n",
      "Phishing mails: 19 / 822 dopasowań\n",
      "Regular mails:  0 / 887 dopasowań\n",
      "Inne pliki:      0 / 1 dopasowań\n",
      "SUMA:            19 / 1710 plików dopasowanych\n",
      "\n"
     ]
    }
   ],
   "source": [
    "analyze_yara_results_from_file('results/yara_encoded_scan.txt')"
   ]
  },
  {
   "cell_type": "code",
   "execution_count": 75,
   "id": "022cb47d",
   "metadata": {},
   "outputs": [
    {
     "name": "stdout",
     "output_type": "stream",
     "text": [
      "\n",
      "Scanning finished. 1710 files were scanned, 520 matches were detected.\n",
      "Results saved in: results/suspicious_links_scan.txt\n"
     ]
    }
   ],
   "source": [
    "scan_with_yara(\n",
    "    rules_path='rules/suspicious_links_rule.yar',\n",
    "    target_dir='samples/',\n",
    "    output_path='results/suspicious_links_scan.txt'\n",
    ")"
   ]
  },
  {
   "cell_type": "code",
   "execution_count": 76,
   "id": "7d18a1c7",
   "metadata": {},
   "outputs": [
    {
     "name": "stdout",
     "output_type": "stream",
     "text": [
      "Analiza wyników z pliku: results/suspicious_links_scan.txt\n",
      "Phishing mails: 421 / 822 dopasowań\n",
      "Regular mails:  99 / 887 dopasowań\n",
      "Inne pliki:      0 / 1 dopasowań\n",
      "SUMA:            520 / 1710 plików dopasowanych\n",
      "\n"
     ]
    }
   ],
   "source": [
    "analyze_yara_results_from_file('results/suspicious_links_scan.txt')"
   ]
  },
  {
   "cell_type": "code",
   "execution_count": 77,
   "id": "c1812ae0",
   "metadata": {},
   "outputs": [
    {
     "name": "stdout",
     "output_type": "stream",
     "text": [
      "\n",
      "Scanning finished. 1710 files were scanned, 143 matches were detected.\n",
      "Results saved in: results/complex_html_scan.txt\n"
     ]
    }
   ],
   "source": [
    "scan_with_yara(\n",
    "    rules_path='rules/complex_html_rule.yar',\n",
    "    target_dir='samples/',\n",
    "    output_path='results/complex_html_scan.txt'\n",
    ")"
   ]
  },
  {
   "cell_type": "code",
   "execution_count": 78,
   "id": "4c6de090",
   "metadata": {},
   "outputs": [
    {
     "name": "stdout",
     "output_type": "stream",
     "text": [
      "Analiza wyników z pliku: results/complex_html_scan.txt\n",
      "Phishing mails: 82 / 822 dopasowań\n",
      "Regular mails:  61 / 887 dopasowań\n",
      "Inne pliki:      0 / 1 dopasowań\n",
      "SUMA:            143 / 1710 plików dopasowanych\n",
      "\n"
     ]
    }
   ],
   "source": [
    "analyze_yara_results_from_file('results/complex_html_scan.txt')"
   ]
  }
 ],
 "metadata": {
  "kernelspec": {
   "display_name": "Python 3",
   "language": "python",
   "name": "python3"
  },
  "language_info": {
   "codemirror_mode": {
    "name": "ipython",
    "version": 3
   },
   "file_extension": ".py",
   "mimetype": "text/x-python",
   "name": "python",
   "nbconvert_exporter": "python",
   "pygments_lexer": "ipython3",
   "version": "3.13.2"
  }
 },
 "nbformat": 4,
 "nbformat_minor": 5
}
