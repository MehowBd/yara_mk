{
 "cells": [
  {
   "cell_type": "code",
   "execution_count": 2,
   "id": "124075d4",
   "metadata": {},
   "outputs": [
    {
     "name": "stdout",
     "output_type": "stream",
     "text": [
      "Dopasowania: [ExampleRule]\n"
     ]
    }
   ],
   "source": [
    "import yara\n",
    "import os\n",
    "import re\n",
    "\n",
    "rules = yara.compile(r'rules\\sekurak_yara_example.yar')\n",
    "matches = rules.match(r'samples\\sample_1.exe')\n",
    "\n",
    "print(\"Dopasowania:\", matches)"
   ]
  },
  {
   "cell_type": "markdown",
   "id": "b501170f",
   "metadata": {},
   "source": [
    "Phishing mail data collected from : https://monkey.org/~jose/phishing/ (2023 and 2024 year)\n",
    "\n",
    "\n",
    "Regular mail data collected from selected: https://spamassassin.apache.org/old/publiccorpus/ (easy and hard, without spam mails)"
   ]
  },
  {
   "cell_type": "markdown",
   "id": "7e783bbf",
   "metadata": {},
   "source": [
    "## Data preparation"
   ]
  },
  {
   "cell_type": "code",
   "execution_count": 3,
   "id": "59965f2e",
   "metadata": {},
   "outputs": [],
   "source": [
    "def split_emails_to_files(input_dir: str, output_dir: str):\n",
    "    os.makedirs(output_dir, exist_ok=True)\n",
    "    counter = 1\n",
    "    \n",
    "    for filename in sorted(os.listdir(input_dir)):\n",
    "        filepath = os.path.join(input_dir, filename)\n",
    "        if not os.path.isfile(filepath):\n",
    "            continue\n",
    "\n",
    "        try:\n",
    "            with open(filepath, 'r', encoding='utf-8', errors='replace') as f:\n",
    "                content = f.read()\n",
    "        except Exception as e:\n",
    "            print(f\"Error with file {filename}: {e}\")\n",
    "            continue\n",
    "\n",
    "        messages = re.split(r'(?=^From \\S+@\\S+ .{24,})', content, flags=re.MULTILINE)\n",
    "        messages = [msg.strip() for msg in messages if msg.strip()]\n",
    "\n",
    "        for msg in messages:\n",
    "            out_filename = f\"message_{counter:06d}.txt\"\n",
    "            out_path = os.path.join(output_dir, out_filename)\n",
    "            with open(out_path, 'w', encoding='utf-8') as out:\n",
    "                out.write(msg)\n",
    "            counter += 1\n",
    "\n",
    "        print(f\"Saved {len(messages)} messages from file: {filename}\")\n",
    "\n",
    "    print(f\"\\n Saved {counter - 1} messages to directory: {output_dir}\")\n"
   ]
  },
  {
   "cell_type": "code",
   "execution_count": null,
   "id": "3aca24bc",
   "metadata": {},
   "outputs": [
    {
     "name": "stdout",
     "output_type": "stream",
     "text": [
      "Saved 419 messages from file: phishing-2023.mbox\n",
      "Saved 403 messages from file: phishing-2024.mbox\n",
      "\n",
      " Saved 822 messages to directory: samples/phishing_mails\n"
     ]
    }
   ],
   "source": [
    "#split_emails_to_files('samples/raw_phishing', 'samples/phishing_mails')"
   ]
  },
  {
   "cell_type": "code",
   "execution_count": 4,
   "id": "0d4da19a",
   "metadata": {},
   "outputs": [],
   "source": [
    "def convert_emails_to_txt(input_dir: str, output_dir: str):\n",
    "    os.makedirs(output_dir, exist_ok=True)\n",
    "    \n",
    "    files = sorted(f for f in os.listdir(input_dir) if os.path.isfile(os.path.join(input_dir, f)) and not f.startswith(\"cmds\"))\n",
    "    \n",
    "    for idx, filename in enumerate(files, 1):\n",
    "        input_path = os.path.join(input_dir, filename)\n",
    "        output_filename = f\"regular_message_{idx:03d}.txt\"\n",
    "        output_path = os.path.join(output_dir, output_filename)\n",
    "        \n",
    "        with open(input_path, 'r', encoding='utf-8', errors='ignore') as f_in, \\\n",
    "             open(output_path, 'w', encoding='utf-8') as f_out:\n",
    "            content = f_in.read()\n",
    "            f_out.write(content)\n",
    "\n",
    "    print(f\" Converted {len(files)} files from {input_dir} → {output_dir}\")"
   ]
  },
  {
   "cell_type": "code",
   "execution_count": null,
   "id": "08aa40ce",
   "metadata": {},
   "outputs": [
    {
     "name": "stdout",
     "output_type": "stream",
     "text": [
      " Converted 887 files from samples/raw_regular → samples/regular_mails\n"
     ]
    }
   ],
   "source": [
    "#convert_emails_to_txt(\"samples/raw_regular\", \"samples/regular_mails\")"
   ]
  },
  {
   "cell_type": "markdown",
   "id": "1a354a2f",
   "metadata": {},
   "source": [
    "## Scanning files"
   ]
  },
  {
   "cell_type": "code",
   "execution_count": 5,
   "id": "3891f0aa",
   "metadata": {},
   "outputs": [],
   "source": [
    "def scan_with_yara(rules_path: str, target_dir: str, output_path: str):\n",
    "    try:\n",
    "        rules = yara.compile(filepath=rules_path)\n",
    "    except Exception as e:\n",
    "        print(f\"Error during loading rules: {e}\")\n",
    "        return\n",
    "\n",
    "    matches_count = 0\n",
    "    scanned_count = 0\n",
    "\n",
    "    with open(output_path, 'w', encoding='utf-8') as report:\n",
    "        for filename in sorted(os.listdir(target_dir)):\n",
    "            filepath = os.path.join(target_dir, filename)\n",
    "            if not os.path.isfile(filepath):\n",
    "                continue\n",
    "\n",
    "            try:\n",
    "                with open(filepath, 'rb') as f:\n",
    "                    data = f.read()\n",
    "\n",
    "                matches = rules.match(data=data)\n",
    "\n",
    "                if matches:\n",
    "                    matches_count += 1\n",
    "                    report.write(f\" MATCH: {filename} -> {matches}\\n\")\n",
    "                else:\n",
    "                    report.write(f\" NO MATCH: {filename}\\n\")\n",
    "\n",
    "                scanned_count += 1\n",
    "            except Exception as e:\n",
    "                report.write(f\"ERROR {filename}: {e}\\n\")\n",
    "\n",
    "    print(f\"\\nScaning finished. {scanned_count} files was scanned, {matches_count} matches was detected.\")\n",
    "    print(f\"Results saved in: {output_path}\")"
   ]
  },
  {
   "cell_type": "code",
   "execution_count": 6,
   "id": "e7e79d46",
   "metadata": {},
   "outputs": [
    {
     "name": "stdout",
     "output_type": "stream",
     "text": [
      "\n",
      "Scaning finished. 1 files was scanned, 1 matches was detected.\n",
      "Results saved in: results/yara_scan_results.txt\n"
     ]
    }
   ],
   "source": [
    "scan_with_yara(\n",
    "    rules_path='rules/sekurak_yara_example.yar',\n",
    "    target_dir='samples/',\n",
    "    output_path='results/yara_scan_results.txt'\n",
    ")"
   ]
  },
  {
   "cell_type": "markdown",
   "id": "28bbe449",
   "metadata": {},
   "source": [
    "## Cofusion matrix"
   ]
  }
 ],
 "metadata": {
  "kernelspec": {
   "display_name": "Python 3",
   "language": "python",
   "name": "python3"
  },
  "language_info": {
   "codemirror_mode": {
    "name": "ipython",
    "version": 3
   },
   "file_extension": ".py",
   "mimetype": "text/x-python",
   "name": "python",
   "nbconvert_exporter": "python",
   "pygments_lexer": "ipython3",
   "version": "3.9.13"
  }
 },
 "nbformat": 4,
 "nbformat_minor": 5
}
