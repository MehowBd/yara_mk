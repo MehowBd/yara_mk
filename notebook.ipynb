{
 "cells": [
  {
   "cell_type": "code",
   "execution_count": 2,
   "id": "124075d4",
   "metadata": {},
   "outputs": [
    {
     "name": "stdout",
     "output_type": "stream",
     "text": [
      "Failed to import 'c:\\Users\\misie\\AppData\\Local\\Programs\\Python\\Python312\\DLLs\\libyara.dll'\n",
      "PATH = c:\\Users\\misie\\AppData\\Local\\Programs\\Python\\Python312;c:\\Users\\misie\\AppData\\Roaming\\Python\\Python312\\Scripts;C:\\Program Files (x86)\\VMware\\VMware Player\\bin\\;C:\\WINDOWS\\system32;C:\\WINDOWS;C:\\WINDOWS\\System32\\Wbem;C:\\WINDOWS\\System32\\WindowsPowerShell\\v1.0\\;C:\\WINDOWS\\System32\\OpenSSH\\;C:\\Program Files\\MATLAB\\R2021b\\runtime\\win64;C:\\Program Files\\MATLAB\\R2021b\\bin;C:\\Program Files\\Git\\cmd;C:\\Users\\misie\\AppData\\Roaming\\Microsoft\\Windows\\Start Menu\\Programs\\Python 3.6;C:\\Program Files (x86)\\GnuWin32\\bin;C:\\PROGRA~2\\FANUC\\Shared\\UTILIT~1;C:\\Program Files\\Azure Data Studio\\bin;C:\\Program Files (x86)\\Microsoft SQL Server\\160\\DTS\\Binn\\;C:\\Program Files (x86)\\Microsoft SQL Server\\160\\Tools\\Binn\\;C:\\Program Files\\Microsoft SQL Server\\160\\Tools\\Binn\\;C:\\Program Files\\Microsoft SQL Server\\Client SDK\\ODBC\\170\\Tools\\Binn\\;C:\\Program Files\\Microsoft SQL Server\\160\\DTS\\Binn\\;C:\\Program Files (x86)\\gs\\gs10.03.0\\bin;C:\\Program Files\\CMake\\bin;C:\\Program Files\\TIBCO\\Statistica\\;;C:\\Program Files\\Common Files\\Datawatch\\Drivers\\7.1.5\\jre\\bin;C:\\Program Files\\Common Files\\Datawatch\\Drivers\\7.1.5\\jre\\bin\\server;C:\\Program Files\\Microsoft SQL Server\\130\\Tools\\Binn\\;C:\\Program Files\\Docker\\Docker\\resources\\bin;C:\\Users\\misie\\AppData\\Local\\Programs\\Python\\Python312\\Scripts\\;C:\\Users\\misie\\AppData\\Local\\Programs\\Python\\Python312\\;C:\\Users\\misie\\miniconda3;C:\\Users\\misie\\miniconda3\\Library\\mingw-w64\\bin;C:\\Users\\misie\\miniconda3\\Library\\usr\\bin;C:\\Users\\misie\\miniconda3\\Library\\bin;C:\\Users\\misie\\miniconda3\\Scripts;C:\\Users\\misie\\AppData\\Local\\Programs\\Python\\Python36\\Scripts\\;C:\\Users\\misie\\AppData\\Local\\Programs\\Python\\Python36\\;C:\\Users\\misie\\AppData\\Local\\Microsoft\\WindowsApps;C:\\Users\\misie\\AppData\\Local\\Programs\\Microsoft VS Code\\bin;C:\\ProgramData\\Microsoft\\Windows\\Start Menu\\Programs\\JetBrains;C:\\Program Files\\Azure Data Studio\\bin;C:\\Program Files\\JetBrains\\DataGrip 2023.3.4\\bin;;C:\\Users\\misie\\AppData\\Local\\Programs\\MiKTeX\\miktex\\bin\\x64\\;C:\\MinGW\\bin;C:\\Users\\misie\\AppData\\Local\\Programs\\Ollama;C:\\Users\\misie\\AppData\\Local\\Google\\Cloud SDK\\google-cloud-sdk\\bin;;C:\\Program Files (x86)\\VMware\\VMware Player\\bin\\;C:\\WINDOWS\\system32;C:\\WINDOWS;C:\\WINDOWS\\System32\\Wbem;C:\\WINDOWS\\System32\\WindowsPowerShell\\v1.0\\;C:\\WINDOWS\\System32\\OpenSSH\\;C:\\Program Files\\MATLAB\\R2021b\\runtime\\win64;C:\\Program Files\\MATLAB\\R2021b\\bin;C:\\Program Files\\Git\\cmd;C:\\Users\\misie\\AppData\\Roaming\\Microsoft\\Windows\\Start Menu\\Programs\\Python 3.6;C:\\Program Files (x86)\\GnuWin32\\bin;C:\\PROGRA~2\\FANUC\\Shared\\UTILIT~1;C:\\Program Files\\Azure Data Studio\\bin;C:\\Program Files (x86)\\Microsoft SQL Server\\160\\DTS\\Binn\\;C:\\Program Files (x86)\\Microsoft SQL Server\\160\\Tools\\Binn\\;C:\\Program Files\\Microsoft SQL Server\\160\\Tools\\Binn\\;C:\\Program Files\\Microsoft SQL Server\\Client SDK\\ODBC\\170\\Tools\\Binn\\;C:\\Program Files\\Microsoft SQL Server\\160\\DTS\\Binn\\;C:\\Program Files (x86)\\gs\\gs10.03.0\\bin;C:\\Program Files\\CMake\\bin;C:\\Program Files\\TIBCO\\Statistica\\;;C:\\Program Files\\Common Files\\Datawatch\\Drivers\\7.1.5\\jre\\bin;C:\\Program Files\\Common Files\\Datawatch\\Drivers\\7.1.5\\jre\\bin\\server;C:\\Program Files\\Microsoft SQL Server\\130\\Tools\\Binn\\;C:\\Program Files\\Docker\\Docker\\resources\\bin;C:\\Users\\misie\\AppData\\Local\\Programs\\Python\\Python312\\Scripts\\;C:\\Users\\misie\\AppData\\Local\\Programs\\Python\\Python312\\;C:\\Users\\misie\\miniconda3;C:\\Users\\misie\\miniconda3\\Library\\mingw-w64\\bin;C:\\Users\\misie\\miniconda3\\Library\\usr\\bin;C:\\Users\\misie\\miniconda3\\Library\\bin;C:\\Users\\misie\\miniconda3\\Scripts;C:\\Users\\misie\\AppData\\Local\\Programs\\Python\\Python36\\Scripts\\;C:\\Users\\misie\\AppData\\Local\\Programs\\Python\\Python36\\;C:\\Users\\misie\\AppData\\Local\\Microsoft\\WindowsApps;C:\\Users\\misie\\AppData\\Local\\Programs\\Microsoft VS Code\\bin;C:\\ProgramData\\Microsoft\\Windows\\Start Menu\\Programs\\JetBrains;C:\\Program Files\\Azure Data Studio\\bin;C:\\Program Files\\JetBrains\\DataGrip 2023.3.4\\bin;;C:\\Users\\misie\\AppData\\Local\\Programs\\MiKTeX\\miktex\\bin\\x64\\;C:\\MinGW\\bin;C:\\Users\\misie\\AppData\\Local\\Programs\\Ollama;C:\\Users\\misie\\AppData\\Local\\Google\\Cloud SDK\\google-cloud-sdk\\bin;;c:\\Users\\misie\\AppData\\Local\\Programs\\Python\\Python312\\DLLs;c:\\Users\\misie\\AppData\\Local\\Programs\\Python\\Python312\\DLLs\n"
     ]
    },
    {
     "name": "stderr",
     "output_type": "stream",
     "text": [
      "<>:3: SyntaxWarning: invalid escape sequence '\\s'\n",
      "<>:4: SyntaxWarning: invalid escape sequence '\\s'\n",
      "<>:3: SyntaxWarning: invalid escape sequence '\\s'\n",
      "<>:4: SyntaxWarning: invalid escape sequence '\\s'\n",
      "C:\\Users\\misie\\AppData\\Local\\Temp\\ipykernel_24424\\191633434.py:3: SyntaxWarning: invalid escape sequence '\\s'\n",
      "  rules = yara.compile('.rules\\sekurak_yara_example.yar')\n",
      "C:\\Users\\misie\\AppData\\Local\\Temp\\ipykernel_24424\\191633434.py:4: SyntaxWarning: invalid escape sequence '\\s'\n",
      "  matches = rules.match('.samples\\sample_1.exe')\n"
     ]
    },
    {
     "ename": "FileNotFoundError",
     "evalue": "Could not find module 'c:\\Users\\misie\\AppData\\Local\\Programs\\Python\\Python312\\DLLs\\libyara.dll' (or one of its dependencies). Try using the full path with constructor syntax.",
     "output_type": "error",
     "traceback": [
      "\u001b[1;31m---------------------------------------------------------------------------\u001b[0m",
      "\u001b[1;31mFileNotFoundError\u001b[0m                         Traceback (most recent call last)",
      "Cell \u001b[1;32mIn[2], line 1\u001b[0m\n\u001b[1;32m----> 1\u001b[0m \u001b[38;5;28;01mimport\u001b[39;00m \u001b[38;5;21;01myara\u001b[39;00m\n\u001b[0;32m      3\u001b[0m rules \u001b[38;5;241m=\u001b[39m yara\u001b[38;5;241m.\u001b[39mcompile(\u001b[38;5;124m'\u001b[39m\u001b[38;5;124m.rules\u001b[39m\u001b[38;5;124m\\\u001b[39m\u001b[38;5;124msekurak_yara_example.yar\u001b[39m\u001b[38;5;124m'\u001b[39m)\n\u001b[0;32m      4\u001b[0m matches \u001b[38;5;241m=\u001b[39m rules\u001b[38;5;241m.\u001b[39mmatch(\u001b[38;5;124m'\u001b[39m\u001b[38;5;124m.samples\u001b[39m\u001b[38;5;124m\\\u001b[39m\u001b[38;5;124msample_1.exe\u001b[39m\u001b[38;5;124m'\u001b[39m)\n",
      "File \u001b[1;32mc:\\Users\\misie\\AppData\\Local\\Programs\\Python\\Python312\\Lib\\site-packages\\yara\\__init__.py:7\u001b[0m\n\u001b[0;32m      1\u001b[0m \u001b[38;5;124;03m\"\"\"Compile YARA rules to test against files or strings\u001b[39;00m\n\u001b[0;32m      2\u001b[0m \n\u001b[0;32m      3\u001b[0m \u001b[38;5;124;03m[mjdorma@gmail.com]\u001b[39;00m\n\u001b[0;32m      4\u001b[0m \u001b[38;5;124;03m\"\"\"\u001b[39;00m\n\u001b[0;32m      6\u001b[0m \u001b[38;5;28;01mfrom\u001b[39;00m \u001b[38;5;21;01myara\u001b[39;00m\u001b[38;5;21;01m.\u001b[39;00m\u001b[38;5;21;01mversion\u001b[39;00m \u001b[38;5;28;01mimport\u001b[39;00m __version__\n\u001b[1;32m----> 7\u001b[0m \u001b[38;5;28;01mfrom\u001b[39;00m \u001b[38;5;21;01myara\u001b[39;00m\u001b[38;5;21;01m.\u001b[39;00m\u001b[38;5;21;01mrules\u001b[39;00m \u001b[38;5;28;01mimport\u001b[39;00m \u001b[38;5;28mcompile\u001b[39m\n\u001b[0;32m      8\u001b[0m \u001b[38;5;28;01mfrom\u001b[39;00m \u001b[38;5;21;01myara\u001b[39;00m\u001b[38;5;21;01m.\u001b[39;00m\u001b[38;5;21;01mrules\u001b[39;00m \u001b[38;5;28;01mimport\u001b[39;00m YaraSyntaxError \n\u001b[0;32m      9\u001b[0m \u001b[38;5;28;01mfrom\u001b[39;00m \u001b[38;5;21;01myara\u001b[39;00m\u001b[38;5;21;01m.\u001b[39;00m\u001b[38;5;21;01mrules\u001b[39;00m \u001b[38;5;28;01mimport\u001b[39;00m load_rules\n",
      "File \u001b[1;32mc:\\Users\\misie\\AppData\\Local\\Programs\\Python\\Python312\\Lib\\site-packages\\yara\\rules.py:17\u001b[0m\n\u001b[0;32m     14\u001b[0m \u001b[38;5;28;01mfrom\u001b[39;00m \u001b[38;5;21;01mio\u001b[39;00m \u001b[38;5;28;01mimport\u001b[39;00m BytesIO \n\u001b[0;32m     16\u001b[0m \u001b[38;5;28;01mfrom\u001b[39;00m \u001b[38;5;21;01myara\u001b[39;00m\u001b[38;5;21;01m.\u001b[39;00m\u001b[38;5;21;01mpreprocessor\u001b[39;00m \u001b[38;5;28;01mimport\u001b[39;00m preprocess\n\u001b[1;32m---> 17\u001b[0m \u001b[38;5;28;01mfrom\u001b[39;00m \u001b[38;5;21;01myara\u001b[39;00m\u001b[38;5;21;01m.\u001b[39;00m\u001b[38;5;21;01mlibyara_wrapper\u001b[39;00m \u001b[38;5;28;01mimport\u001b[39;00m \u001b[38;5;241m*\u001b[39m\n\u001b[0;32m     20\u001b[0m CALLBACK_CONTINUE \u001b[38;5;241m=\u001b[39m \u001b[38;5;241m0\u001b[39m\n\u001b[0;32m     21\u001b[0m CALLBACK_ABORT \u001b[38;5;241m=\u001b[39m \u001b[38;5;241m1\u001b[39m\n",
      "File \u001b[1;32mc:\\Users\\misie\\AppData\\Local\\Programs\\Python\\Python312\\Lib\\site-packages\\yara\\libyara_wrapper.py:315\u001b[0m\n\u001b[0;32m    313\u001b[0m os\u001b[38;5;241m.\u001b[39menviron[\u001b[38;5;124m'\u001b[39m\u001b[38;5;124mPATH\u001b[39m\u001b[38;5;124m'\u001b[39m] \u001b[38;5;241m+\u001b[39m\u001b[38;5;241m=\u001b[39m \u001b[38;5;124m\"\u001b[39m\u001b[38;5;124m;\u001b[39m\u001b[38;5;132;01m%s\u001b[39;00m\u001b[38;5;124m\"\u001b[39m \u001b[38;5;241m%\u001b[39m dllpath\n\u001b[0;32m    314\u001b[0m \u001b[38;5;28;01mtry\u001b[39;00m:\n\u001b[1;32m--> 315\u001b[0m     libyaradll \u001b[38;5;241m=\u001b[39m \u001b[43mcdll\u001b[49m\u001b[38;5;241;43m.\u001b[39;49m\u001b[43mLoadLibrary\u001b[49m\u001b[43m(\u001b[49m\u001b[43mlibrary\u001b[49m\u001b[43m)\u001b[49m\n\u001b[0;32m    316\u001b[0m \u001b[38;5;28;01mexcept\u001b[39;00m \u001b[38;5;167;01mException\u001b[39;00m \u001b[38;5;28;01mas\u001b[39;00m err:\n\u001b[0;32m    317\u001b[0m     \u001b[38;5;28mprint\u001b[39m(\u001b[38;5;124m\"\u001b[39m\u001b[38;5;124mFailed to import \u001b[39m\u001b[38;5;124m'\u001b[39m\u001b[38;5;132;01m%s\u001b[39;00m\u001b[38;5;124m'\u001b[39m\u001b[38;5;124m\"\u001b[39m \u001b[38;5;241m%\u001b[39m library)\n",
      "File \u001b[1;32mc:\\Users\\misie\\AppData\\Local\\Programs\\Python\\Python312\\Lib\\ctypes\\__init__.py:460\u001b[0m, in \u001b[0;36mLibraryLoader.LoadLibrary\u001b[1;34m(self, name)\u001b[0m\n\u001b[0;32m    459\u001b[0m \u001b[38;5;28;01mdef\u001b[39;00m \u001b[38;5;21mLoadLibrary\u001b[39m(\u001b[38;5;28mself\u001b[39m, name):\n\u001b[1;32m--> 460\u001b[0m     \u001b[38;5;28;01mreturn\u001b[39;00m \u001b[38;5;28;43mself\u001b[39;49m\u001b[38;5;241;43m.\u001b[39;49m\u001b[43m_dlltype\u001b[49m\u001b[43m(\u001b[49m\u001b[43mname\u001b[49m\u001b[43m)\u001b[49m\n",
      "File \u001b[1;32mc:\\Users\\misie\\AppData\\Local\\Programs\\Python\\Python312\\Lib\\ctypes\\__init__.py:379\u001b[0m, in \u001b[0;36mCDLL.__init__\u001b[1;34m(self, name, mode, handle, use_errno, use_last_error, winmode)\u001b[0m\n\u001b[0;32m    376\u001b[0m \u001b[38;5;28mself\u001b[39m\u001b[38;5;241m.\u001b[39m_FuncPtr \u001b[38;5;241m=\u001b[39m _FuncPtr\n\u001b[0;32m    378\u001b[0m \u001b[38;5;28;01mif\u001b[39;00m handle \u001b[38;5;129;01mis\u001b[39;00m \u001b[38;5;28;01mNone\u001b[39;00m:\n\u001b[1;32m--> 379\u001b[0m     \u001b[38;5;28mself\u001b[39m\u001b[38;5;241m.\u001b[39m_handle \u001b[38;5;241m=\u001b[39m \u001b[43m_dlopen\u001b[49m\u001b[43m(\u001b[49m\u001b[38;5;28;43mself\u001b[39;49m\u001b[38;5;241;43m.\u001b[39;49m\u001b[43m_name\u001b[49m\u001b[43m,\u001b[49m\u001b[43m \u001b[49m\u001b[43mmode\u001b[49m\u001b[43m)\u001b[49m\n\u001b[0;32m    380\u001b[0m \u001b[38;5;28;01melse\u001b[39;00m:\n\u001b[0;32m    381\u001b[0m     \u001b[38;5;28mself\u001b[39m\u001b[38;5;241m.\u001b[39m_handle \u001b[38;5;241m=\u001b[39m handle\n",
      "\u001b[1;31mFileNotFoundError\u001b[0m: Could not find module 'c:\\Users\\misie\\AppData\\Local\\Programs\\Python\\Python312\\DLLs\\libyara.dll' (or one of its dependencies). Try using the full path with constructor syntax."
     ]
    }
   ],
   "source": [
    "import yara\n",
    "\n",
    "rules = yara.compile('.rules\\sekurak_yara_example.yar')\n",
    "matches = rules.match('.samples\\sample_1.exe')\n",
    "\n",
    "print(matches)"
   ]
  }
 ],
 "metadata": {
  "kernelspec": {
   "display_name": "Python 3",
   "language": "python",
   "name": "python3"
  },
  "language_info": {
   "codemirror_mode": {
    "name": "ipython",
    "version": 3
   },
   "file_extension": ".py",
   "mimetype": "text/x-python",
   "name": "python",
   "nbconvert_exporter": "python",
   "pygments_lexer": "ipython3",
   "version": "3.12.4"
  }
 },
 "nbformat": 4,
 "nbformat_minor": 5
}
